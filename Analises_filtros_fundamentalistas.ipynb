{
  "nbformat": 4,
  "nbformat_minor": 0,
  "metadata": {
    "colab": {
      "name": "Analises filtros fundamentalistas.ipynb",
      "provenance": [],
      "collapsed_sections": [],
      "toc_visible": true
    },
    "kernelspec": {
      "name": "python3",
      "display_name": "Python 3"
    }
  },
  "cells": [
    {
      "cell_type": "code",
      "metadata": {
        "id": "ONtTwJzlg5uV",
        "colab_type": "code",
        "colab": {}
      },
      "source": [
        "import pandas as pd\n",
        "from pprint import pprint"
      ],
      "execution_count": 0,
      "outputs": []
    },
    {
      "cell_type": "code",
      "metadata": {
        "id": "1syAUaxvhvTv",
        "colab_type": "code",
        "colab": {
          "base_uri": "https://localhost:8080/",
          "height": 85
        },
        "outputId": "b9d73786-98af-4803-978a-e90b0b97ed67"
      },
      "source": [
        "df_indicadores = pd.read_csv('dados_oceans14_liquidos.csv')\n",
        "df_indicadores.columns"
      ],
      "execution_count": 44,
      "outputs": [
        {
          "output_type": "execute_result",
          "data": {
            "text/plain": [
              "Index(['tick', 'ano', 'divida_liq_EBITDA', 'ROIC', 'VPA', 'ROA', 'P_L', 'PSR',\n",
              "       'P_VP', 'ECP', 'P_EBIT', 'DY', 'ROE', 'P_ativos', 'margem_EBITDA',\n",
              "       'LPA', 'margem_liq', 'EV_EBITDA', 'beta', 'P_EBITDA', 'EV_EBIT'],\n",
              "      dtype='object')"
            ]
          },
          "metadata": {
            "tags": []
          },
          "execution_count": 44
        }
      ]
    },
    {
      "cell_type": "code",
      "metadata": {
        "id": "zsV7HaOvLYJk",
        "colab_type": "code",
        "colab": {}
      },
      "source": [
        "def somar_posicoes(df_rank, list_indicadores):\n",
        "    linhas_posi = []\n",
        "    for tick, linha in df_rank.iterrows():\n",
        "        soma_posi = 0\n",
        "        for i in range(1, len(linha), 1):\n",
        "            soma_posi += linha[i]\n",
        "        linhas_posi.append([tick, soma_posi])\n",
        "    \n",
        "    df_posi = pd.DataFrame(linhas_posi, columns=['tick', 'soma_posi'])\n",
        "    df_posi.set_index('tick', inplace=True)\n",
        "    return df_rank.join(df_posi).copy()"
      ],
      "execution_count": 0,
      "outputs": []
    },
    {
      "cell_type": "code",
      "metadata": {
        "id": "dJJT7mTcmAsm",
        "colab_type": "code",
        "colab": {}
      },
      "source": [
        "def calcular_ranking(df_completo, list_indicadores, ano):\n",
        "    '''\n",
        "    list_indicadores = [['TICKER', bool (O primeiro lugar é o menor valor?)], [Ticker, bool], ...]\n",
        "    '''\n",
        "    df_rankings = df_completo[df_completo['ano'] == ano][['tick', 'ano']].copy()\n",
        "    df_rankings.set_index('tick', inplace=True)\n",
        "\n",
        "    for indicador, asc in list_indicadores:\n",
        "        df_indicador = df_completo[df_completo['ano'] == ano][['tick', indicador]].copy()\n",
        "        df_indicador.set_index('tick', inplace=True)\n",
        "\n",
        "        df_indicador['rank_'+indicador] = df_indicador[indicador].rank(ascending=asc)\n",
        "        df_indicador.drop(indicador, axis=1, inplace=True)\n",
        "\n",
        "        df_rankings = df_rankings.join(df_indicador)\n",
        "    \n",
        "    df_rankings = somar_posicoes(df_rankings, list_indicadores)\n",
        "    return df_rankings.sort_values('soma_posi').copy()"
      ],
      "execution_count": 0,
      "outputs": []
    },
    {
      "cell_type": "code",
      "metadata": {
        "id": "pJ5tGBRg7jA7",
        "colab_type": "code",
        "colab": {}
      },
      "source": [
        "def analisar_indicadores(lista_indicadores, ano):\n",
        "    DICT_ASC = {\n",
        "        'divida_liq_EBITDA': ['divida_liq_EBITDA', True],\n",
        "        'ROIC': ['ROIC', False],\n",
        "        'VPA': ['VPA', True],\n",
        "        'ROA': ['ROA', False],\n",
        "        'P_L': ['P_L', True],\n",
        "        'PSR': ['PSR', False],\n",
        "        'P_VP': ['P_VP', True],\n",
        "        'P_EBIT': ['P_EBIT', True],\n",
        "        'DY': ['DY', False],\n",
        "        'ROE': ['ROE', False],\n",
        "        'P_ativos': ['P_ativos', True],\n",
        "        'margem_EBITDA': ['margem_EBITDA', False],\n",
        "        'LPA': ['LPA', False],\n",
        "        'margem_liq': ['margem_liq', False],\n",
        "        'EV_EBITDA': ['EV_EBITDA', True],\n",
        "        'P_EBITDA': ['P_EBITDA', True],\n",
        "        'EV_EBIT': ['EV_EBIT', True],\n",
        "    }\n",
        "\n",
        "    lista_duplas = []\n",
        "    for indicador in lista_indicadores:\n",
        "        lista_duplas.append(DICT_ASC[indicador])\n",
        "    \n",
        "    df_indicadores = pd.read_csv('dados_oceans14_liquidos.csv')\n",
        "    \n",
        "    df_final = calcular_ranking(df_indicadores, lista_duplas, ano)\n",
        "\n",
        "    df_final['posi_normalizada'] = round((100*df_final['soma_posi'])/(len(df_final)*len(indicadores)),2)\n",
        "\n",
        "    colunas_certas = list(df_final.columns)\n",
        "    colunas_certas.remove('ano')\n",
        "    colunas_certas.remove('soma_posi')\n",
        "    colunas_certas.remove('posi_normalizada')\n",
        "    colunas_certas = ['soma_posi', 'posi_normalizada'] + colunas_certas\n",
        "\n",
        "    return df_final[colunas_certas].copy()\n"
      ],
      "execution_count": 0,
      "outputs": []
    },
    {
      "cell_type": "code",
      "metadata": {
        "id": "vjoAEM_mUy6m",
        "colab_type": "code",
        "colab": {
          "base_uri": "https://localhost:8080/",
          "height": 390
        },
        "outputId": "2811ea23-2de2-411c-c75c-9b3902661164"
      },
      "source": [
        "indicadores = ['ROIC', 'EV_EBITDA']\n",
        "ano = 2019\n",
        "df_final = analisar_indicadores(indicadores, ano)\n",
        "df_final.head(10)"
      ],
      "execution_count": 48,
      "outputs": [
        {
          "output_type": "execute_result",
          "data": {
            "text/html": [
              "<div>\n",
              "<style scoped>\n",
              "    .dataframe tbody tr th:only-of-type {\n",
              "        vertical-align: middle;\n",
              "    }\n",
              "\n",
              "    .dataframe tbody tr th {\n",
              "        vertical-align: top;\n",
              "    }\n",
              "\n",
              "    .dataframe thead th {\n",
              "        text-align: right;\n",
              "    }\n",
              "</style>\n",
              "<table border=\"1\" class=\"dataframe\">\n",
              "  <thead>\n",
              "    <tr style=\"text-align: right;\">\n",
              "      <th></th>\n",
              "      <th>soma_posi</th>\n",
              "      <th>posi_normalizada</th>\n",
              "      <th>rank_ROIC</th>\n",
              "      <th>rank_EV_EBITDA</th>\n",
              "    </tr>\n",
              "    <tr>\n",
              "      <th>tick</th>\n",
              "      <th></th>\n",
              "      <th></th>\n",
              "      <th></th>\n",
              "      <th></th>\n",
              "    </tr>\n",
              "  </thead>\n",
              "  <tbody>\n",
              "    <tr>\n",
              "      <th>BBSE3</th>\n",
              "      <td>14.0</td>\n",
              "      <td>4.24</td>\n",
              "      <td>1.0</td>\n",
              "      <td>13.0</td>\n",
              "    </tr>\n",
              "    <tr>\n",
              "      <th>WIZS3</th>\n",
              "      <td>15.0</td>\n",
              "      <td>4.55</td>\n",
              "      <td>2.0</td>\n",
              "      <td>13.0</td>\n",
              "    </tr>\n",
              "    <tr>\n",
              "      <th>SMLS3</th>\n",
              "      <td>19.0</td>\n",
              "      <td>5.76</td>\n",
              "      <td>3.0</td>\n",
              "      <td>16.0</td>\n",
              "    </tr>\n",
              "    <tr>\n",
              "      <th>CEAB3</th>\n",
              "      <td>28.5</td>\n",
              "      <td>8.64</td>\n",
              "      <td>8.5</td>\n",
              "      <td>20.0</td>\n",
              "    </tr>\n",
              "    <tr>\n",
              "      <th>GOLL4</th>\n",
              "      <td>33.5</td>\n",
              "      <td>10.15</td>\n",
              "      <td>14.5</td>\n",
              "      <td>19.0</td>\n",
              "    </tr>\n",
              "    <tr>\n",
              "      <th>CNTO3</th>\n",
              "      <td>38.5</td>\n",
              "      <td>11.67</td>\n",
              "      <td>25.5</td>\n",
              "      <td>13.0</td>\n",
              "    </tr>\n",
              "    <tr>\n",
              "      <th>PRIO3</th>\n",
              "      <td>42.5</td>\n",
              "      <td>12.88</td>\n",
              "      <td>12.5</td>\n",
              "      <td>30.0</td>\n",
              "    </tr>\n",
              "    <tr>\n",
              "      <th>TGMA3</th>\n",
              "      <td>54.5</td>\n",
              "      <td>16.52</td>\n",
              "      <td>6.0</td>\n",
              "      <td>48.5</td>\n",
              "    </tr>\n",
              "    <tr>\n",
              "      <th>CGRA4</th>\n",
              "      <td>58.5</td>\n",
              "      <td>17.73</td>\n",
              "      <td>30.5</td>\n",
              "      <td>28.0</td>\n",
              "    </tr>\n",
              "    <tr>\n",
              "      <th>ALUP11</th>\n",
              "      <td>60.5</td>\n",
              "      <td>18.33</td>\n",
              "      <td>23.5</td>\n",
              "      <td>37.0</td>\n",
              "    </tr>\n",
              "  </tbody>\n",
              "</table>\n",
              "</div>"
            ],
            "text/plain": [
              "        soma_posi  posi_normalizada  rank_ROIC  rank_EV_EBITDA\n",
              "tick                                                          \n",
              "BBSE3        14.0              4.24        1.0            13.0\n",
              "WIZS3        15.0              4.55        2.0            13.0\n",
              "SMLS3        19.0              5.76        3.0            16.0\n",
              "CEAB3        28.5              8.64        8.5            20.0\n",
              "GOLL4        33.5             10.15       14.5            19.0\n",
              "CNTO3        38.5             11.67       25.5            13.0\n",
              "PRIO3        42.5             12.88       12.5            30.0\n",
              "TGMA3        54.5             16.52        6.0            48.5\n",
              "CGRA4        58.5             17.73       30.5            28.0\n",
              "ALUP11       60.5             18.33       23.5            37.0"
            ]
          },
          "metadata": {
            "tags": []
          },
          "execution_count": 48
        }
      ]
    }
  ]
}